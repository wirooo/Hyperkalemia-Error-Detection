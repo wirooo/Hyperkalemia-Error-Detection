{
 "cells": [
  {
   "cell_type": "code",
   "execution_count": 1,
   "metadata": {},
   "outputs": [],
   "source": [
    "import pandas as pd\n",
    "import numpy as np\n",
    "import matplotlib.pyplot as plt\n",
    "import seaborn as sns\n",
    "import sklearn"
   ]
  },
  {
   "cell_type": "markdown",
   "metadata": {},
   "source": [
    "### 1.0 Set Up Dataset"
   ]
  },
  {
   "cell_type": "code",
   "execution_count": 2,
   "metadata": {},
   "outputs": [
    {
     "data": {
      "text/plain": [
       "(144923, 52)"
      ]
     },
     "execution_count": 2,
     "metadata": {},
     "output_type": "execute_result"
    }
   ],
   "source": [
    "df = pd.read_csv('eicu_full/full_data_labelled.csv')\n",
    "df.set_index('patientunitstayid', inplace=True)\n",
    "df.shape"
   ]
  },
  {
   "cell_type": "code",
   "execution_count": 3,
   "metadata": {},
   "outputs": [
    {
     "data": {
      "text/plain": [
       "Index(['-basos', '-eos', '-lymphs', '-monos', '-polys', 'ALT (SGPT)',\n",
       "       'AST (SGOT)', 'BUN', 'Base Excess', 'CPK', 'FiO2', 'HCO3', 'Hct', 'Hgb',\n",
       "       'MCH', 'MCHC', 'MCV', 'MPV', 'O2 Sat (%)', 'PT', 'PT - INR', 'PTT',\n",
       "       'RBC', 'RDW', 'TSH', 'WBC x 1000', 'albumin', 'alkaline phos.',\n",
       "       'anion gap', 'bedside glucose', 'bicarbonate', 'calcium', 'chloride',\n",
       "       'creatinine', 'glucose', 'ionized calcium', 'lactate', 'magnesium',\n",
       "       'pH', 'paCO2', 'paO2', 'phosphate', 'platelets x 1000', 'potassium',\n",
       "       'sodium', 'total bilirubin', 'total protein', 'triglycerides',\n",
       "       'troponin - I', 'urinary specific gravity', 'falsepositive'],\n",
       "      dtype='object')"
      ]
     },
     "execution_count": 3,
     "metadata": {},
     "output_type": "execute_result"
    }
   ],
   "source": [
    "df.drop('hyperkalemic', axis=1, inplace=True)\n",
    "df.columns"
   ]
  },
  {
   "cell_type": "code",
   "execution_count": 4,
   "metadata": {},
   "outputs": [],
   "source": [
    "df.fillna(df.median(), inplace=True)"
   ]
  },
  {
   "cell_type": "markdown",
   "metadata": {},
   "source": [
    "#### 1.1 Split Into Training, Validation, and Test Sets"
   ]
  },
  {
   "cell_type": "code",
   "execution_count": 5,
   "metadata": {},
   "outputs": [
    {
     "data": {
      "text/plain": [
       "(86953, 51)"
      ]
     },
     "execution_count": 5,
     "metadata": {},
     "output_type": "execute_result"
    }
   ],
   "source": [
    "train, validate, test = np.split(df.sample(frac=1), [int(0.6*len(df)), int(0.8*len(df))])\n",
    "train.shape"
   ]
  },
  {
   "cell_type": "code",
   "execution_count": 6,
   "metadata": {},
   "outputs": [
    {
     "data": {
      "text/plain": [
       "(28985, 51)"
      ]
     },
     "execution_count": 6,
     "metadata": {},
     "output_type": "execute_result"
    }
   ],
   "source": [
    "validate.shape"
   ]
  },
  {
   "cell_type": "code",
   "execution_count": 7,
   "metadata": {},
   "outputs": [
    {
     "data": {
      "text/plain": [
       "(28985, 51)"
      ]
     },
     "execution_count": 7,
     "metadata": {},
     "output_type": "execute_result"
    }
   ],
   "source": [
    "test.shape"
   ]
  },
  {
   "cell_type": "code",
   "execution_count": 8,
   "metadata": {},
   "outputs": [],
   "source": [
    "def split_xy(data, ylabel):\n",
    "    return data.drop(ylabel, axis=1), data[ylabel]\n",
    "\n",
    "x_train, y_train = split_xy(train, 'falsepositive')\n",
    "x_val, y_val = split_xy(validate, 'falsepositive')\n",
    "x_test, y_test = split_xy(test, 'falsepositive')"
   ]
  },
  {
   "cell_type": "markdown",
   "metadata": {},
   "source": [
    "### 2.0 Create Initial Model"
   ]
  },
  {
   "cell_type": "code",
   "execution_count": 9,
   "metadata": {},
   "outputs": [],
   "source": [
    "from sklearn.ensemble import RandomForestRegressor\n",
    "from sklearn.ensemble import RandomForestClassifier"
   ]
  },
  {
   "cell_type": "code",
   "execution_count": 10,
   "metadata": {},
   "outputs": [
    {
     "name": "stdout",
     "output_type": "stream",
     "text": [
      "Wall time: 18.2 s\n"
     ]
    },
    {
     "data": {
      "text/plain": [
       "RandomForestRegressor(n_estimators=200, n_jobs=-1, oob_score=True,\n",
       "                      random_state=0)"
      ]
     },
     "execution_count": 10,
     "metadata": {},
     "output_type": "execute_result"
    }
   ],
   "source": [
    "%%time\n",
    "rf = RandomForestRegressor(n_estimators=200, random_state=0, oob_score=True, n_jobs=-1)\n",
    "rf.fit(x_train, y_train)"
   ]
  },
  {
   "cell_type": "code",
   "execution_count": 11,
   "metadata": {},
   "outputs": [
    {
     "data": {
      "text/plain": [
       "array([0.08, 0.  , 0.  , ..., 0.  , 0.21, 0.  ])"
      ]
     },
     "execution_count": 11,
     "metadata": {},
     "output_type": "execute_result"
    }
   ],
   "source": [
    "preds = rf.predict(x_val)\n",
    "preds"
   ]
  },
  {
   "cell_type": "markdown",
   "metadata": {},
   "source": [
    "#### 2.1 Get Metrics"
   ]
  },
  {
   "cell_type": "code",
   "execution_count": 12,
   "metadata": {},
   "outputs": [],
   "source": [
    "from sklearn.metrics import accuracy_score\n",
    "from sklearn.metrics import f1_score\n",
    "from sklearn.metrics import precision_score\n",
    "from sklearn.metrics import recall_score"
   ]
  },
  {
   "cell_type": "code",
   "execution_count": 13,
   "metadata": {},
   "outputs": [
    {
     "data": {
      "text/plain": [
       "0.9461100569259963"
      ]
     },
     "execution_count": 13,
     "metadata": {},
     "output_type": "execute_result"
    }
   ],
   "source": [
    "accuracy_score(y_val, (preds > 0.5))"
   ]
  },
  {
   "cell_type": "code",
   "execution_count": 14,
   "metadata": {},
   "outputs": [
    {
     "data": {
      "text/plain": [
       "0.3045414069456812"
      ]
     },
     "execution_count": 14,
     "metadata": {},
     "output_type": "execute_result"
    }
   ],
   "source": [
    "f1_score(y_val, (preds > 0.5))"
   ]
  },
  {
   "cell_type": "code",
   "execution_count": 15,
   "metadata": {},
   "outputs": [
    {
     "data": {
      "text/plain": [
       "0.6074600355239786"
      ]
     },
     "execution_count": 15,
     "metadata": {},
     "output_type": "execute_result"
    }
   ],
   "source": [
    "precision_score(y_val, (preds > 0.5))"
   ]
  },
  {
   "cell_type": "code",
   "execution_count": 16,
   "metadata": {},
   "outputs": [
    {
     "data": {
      "text/plain": [
       "0.20320855614973263"
      ]
     },
     "execution_count": 16,
     "metadata": {},
     "output_type": "execute_result"
    }
   ],
   "source": [
    "recall_score(y_val, (preds > 0.5))"
   ]
  },
  {
   "cell_type": "code",
   "execution_count": 17,
   "metadata": {},
   "outputs": [
    {
     "data": {
      "text/plain": [
       "0.2881358291780267"
      ]
     },
     "execution_count": 17,
     "metadata": {},
     "output_type": "execute_result"
    }
   ],
   "source": [
    "rf.oob_score_"
   ]
  },
  {
   "cell_type": "markdown",
   "metadata": {},
   "source": [
    "#### 2.1.1 Investigate Classification Threshold"
   ]
  },
  {
   "cell_type": "code",
   "execution_count": 18,
   "metadata": {},
   "outputs": [
    {
     "name": "stderr",
     "output_type": "stream",
     "text": [
      "C:\\Projects\\bwest\\venv\\lib\\site-packages\\sklearn\\metrics\\_classification.py:1221: UndefinedMetricWarning: Precision is ill-defined and being set to 0.0 due to no predicted samples. Use `zero_division` parameter to control this behavior.\n",
      "  _warn_prf(average, modifier, msg_start, len(result))\n"
     ]
    },
    {
     "data": {
      "image/png": "[encoded data removed]",
      "text/plain": [
       "<Figure size 432x288 with 1 Axes>"
      ]
     },
     "metadata": {
      "needs_background": "light"
     },
     "output_type": "display_data"
    }
   ],
   "source": [
    "metrics = [accuracy_score, f1_score, precision_score, recall_score]\n",
    "for metric in metrics:\n",
    "    vals = []\n",
    "    for thresh in range(0, 100, 5):\n",
    "        vals.append(metric(y_val, (preds > thresh/100.0)))\n",
    "    sns.lineplot(np.arange(0, 1, 0.05), vals, label=map(lambda x: x._str__(), metrics))"
   ]
  },
  {
   "cell_type": "markdown",
   "metadata": {},
   "source": [
    "#### 2.2 Using Classifier Instead"
   ]
  },
  {
   "cell_type": "code",
   "execution_count": 19,
   "metadata": {},
   "outputs": [
    {
     "name": "stdout",
     "output_type": "stream",
     "text": [
      "Wall time: 7.52 s\n"
     ]
    },
    {
     "data": {
      "text/plain": [
       "RandomForestClassifier(n_estimators=200, n_jobs=-1, oob_score=True,\n",
       "                       random_state=0)"
      ]
     },
     "execution_count": 19,
     "metadata": {},
     "output_type": "execute_result"
    }
   ],
   "source": [
    "%%time\n",
    "rfc = RandomForestClassifier(n_estimators=200, random_state=0, oob_score=True, n_jobs=-1)\n",
    "rfc.fit(x_train, y_train)"
   ]
  },
  {
   "cell_type": "code",
   "execution_count": 20,
   "metadata": {},
   "outputs": [
    {
     "data": {
      "text/plain": [
       "(0.9439710194928411,\n",
       " 0.1568016614745587,\n",
       " 0.08972073677956031,\n",
       " 0.6213991769547325,\n",
       " 0.9443377456787)"
      ]
     },
     "execution_count": 20,
     "metadata": {},
     "output_type": "execute_result"
    }
   ],
   "source": [
    "cpreds = rfc.predict(x_val)\n",
    "\n",
    "accuracy_score(cpreds, y_val), f1_score(cpreds, y_val), precision_score(cpreds, y_val), recall_score(cpreds, y_val), rfc.oob_score_"
   ]
  },
  {
   "cell_type": "markdown",
   "metadata": {},
   "source": [
    "### 3.0 Model Improvements\n",
    "\n",
    "#### 3.1 Feature Importance"
   ]
  },
  {
   "cell_type": "code",
   "execution_count": 21,
   "metadata": {},
   "outputs": [
    {
     "data": {
      "text/plain": [
       "<AxesSubplot:ylabel='cols'>"
      ]
     },
     "execution_count": 21,
     "metadata": {},
     "output_type": "execute_result"
    },
    {
     "data": {
      "image/png": "[encoded data removed]",
      "text/plain": [
       "<Figure size 864x504 with 1 Axes>"
      ]
     },
     "metadata": {
      "needs_background": "light"
     },
     "output_type": "display_data"
    }
   ],
   "source": [
    "imps = pd.DataFrame({'cols':x_train.columns, 'imp':rfc.feature_importances_}).sort_values('imp', ascending=False)\n",
    "\n",
    "imps.plot('cols', 'imp', 'barh', figsize=(12, 7), legend=False)"
   ]
  },
  {
   "cell_type": "code",
   "execution_count": 22,
   "metadata": {},
   "outputs": [
    {
     "data": {
      "text/plain": [
       "8"
      ]
     },
     "execution_count": 22,
     "metadata": {},
     "output_type": "execute_result"
    }
   ],
   "source": [
    "to_keep = (imps[imps.imp > 0.02].cols).append(pd.Series('falsepositive'))\n",
    "len(to_keep)"
   ]
  },
  {
   "cell_type": "code",
   "execution_count": 23,
   "metadata": {},
   "outputs": [
    {
     "data": {
      "text/plain": [
       "(144923, 8)"
      ]
     },
     "execution_count": 23,
     "metadata": {},
     "output_type": "execute_result"
    }
   ],
   "source": [
    "df_keep = df[to_keep].copy()\n",
    "df_keep.shape"
   ]
  },
  {
   "cell_type": "code",
   "execution_count": 24,
   "metadata": {},
   "outputs": [
    {
     "data": {
      "text/plain": [
       "(86953, 8)"
      ]
     },
     "execution_count": 24,
     "metadata": {},
     "output_type": "execute_result"
    }
   ],
   "source": [
    "train_fi, validate_fi, test_fi = np.split(df_keep.sample(frac=1), [int(0.6*len(df_keep)), int(0.8*len(df_keep))])\n",
    "train_fi.shape"
   ]
  },
  {
   "cell_type": "code",
   "execution_count": 25,
   "metadata": {},
   "outputs": [],
   "source": [
    "def split_xy(data, ylabel):\n",
    "    return data.drop(ylabel, axis=1), data[ylabel]\n",
    "\n",
    "x_train_fi, y_train_fi = split_xy(train_fi, 'falsepositive')\n",
    "x_val_fi, y_val_fi = split_xy(validate_fi, 'falsepositive')\n",
    "x_test_fi, y_test_fi = split_xy(test_fi, 'falsepositive')"
   ]
  },
  {
   "cell_type": "code",
   "execution_count": 26,
   "metadata": {},
   "outputs": [
    {
     "name": "stdout",
     "output_type": "stream",
     "text": [
      "Wall time: 1.45 s\n"
     ]
    },
    {
     "data": {
      "text/plain": [
       "(0.9419354838709677,\n",
       " 0.22549470777726643,\n",
       " 0.14394829612220916,\n",
       " 0.5201698513800425,\n",
       " 0.9413706255103331)"
      ]
     },
     "execution_count": 26,
     "metadata": {},
     "output_type": "execute_result"
    }
   ],
   "source": [
    "%%time\n",
    "rf_fi = RandomForestClassifier(n_estimators=100, random_state=0, oob_score=True, n_jobs=-1)\n",
    "rf_fi.fit(x_train_fi, y_train_fi)\n",
    "\n",
    "fi_preds = rf_fi.predict(x_val_fi)\n",
    "accuracy_score(fi_preds, y_val_fi), f1_score(fi_preds, y_val_fi), precision_score(fi_preds, y_val_fi), recall_score(fi_preds, y_val_fi), rf_fi.oob_score_"
   ]
  },
  {
   "cell_type": "code",
   "execution_count": 27,
   "metadata": {},
   "outputs": [
    {
     "data": {
      "text/plain": [
       "<AxesSubplot:ylabel='cols'>"
      ]
     },
     "execution_count": 27,
     "metadata": {},
     "output_type": "execute_result"
    },
    {
     "data": {
      "image/png": "[encoded data removed]",
      "text/plain": [
       "<Figure size 864x504 with 1 Axes>"
      ]
     },
     "metadata": {
      "needs_background": "light"
     },
     "output_type": "display_data"
    }
   ],
   "source": [
    "imps_fi = pd.DataFrame({'cols':x_train_fi.columns, 'imp':rf_fi.feature_importances_}).sort_values('imp', ascending=False)\n",
    "imps_fi.plot('cols', 'imp', 'barh', figsize=(12, 7), legend=False)"
   ]
  },
  {
   "cell_type": "markdown",
   "metadata": {},
   "source": [
    "#### 3.2 n_estimators"
   ]
  },
  {
   "cell_type": "code",
   "execution_count": 28,
   "metadata": {},
   "outputs": [
    {
     "name": "stdout",
     "output_type": "stream",
     "text": [
      "Wall time: 2.01 s\n"
     ]
    },
    {
     "data": {
      "text/plain": [
       "RandomForestClassifier(n_estimators=50, n_jobs=-1, oob_score=True,\n",
       "                       random_state=0)"
      ]
     },
     "execution_count": 28,
     "metadata": {},
     "output_type": "execute_result"
    }
   ],
   "source": [
    "%%time\n",
    "rf_nest = RandomForestClassifier(n_estimators=50, random_state=0, oob_score=True, n_jobs=-1)\n",
    "rf_nest.fit(x_train, y_train)"
   ]
  },
  {
   "cell_type": "code",
   "execution_count": 29,
   "metadata": {},
   "outputs": [
    {
     "data": {
      "text/plain": [
       "(0.9442815249266863,\n",
       " 0.1739130434782609,\n",
       " 0.10101010101010101,\n",
       " 0.625,\n",
       " 0.9443377456787)"
      ]
     },
     "execution_count": 29,
     "metadata": {},
     "output_type": "execute_result"
    }
   ],
   "source": [
    "preds_nest = rf_nest.predict(x_val)\n",
    "\n",
    "accuracy_score(preds_nest, y_val), f1_score(preds_nest, y_val), precision_score(preds_nest, y_val), recall_score(preds_nest, y_val), rfc.oob_score_"
   ]
  },
  {
   "cell_type": "code",
   "execution_count": 30,
   "metadata": {},
   "outputs": [
    {
     "name": "stdout",
     "output_type": "stream",
     "text": [
      "Wall time: 7.49 s\n"
     ]
    },
    {
     "data": {
      "text/plain": [
       "(0.9439710194928411,\n",
       " 0.1568016614745587,\n",
       " 0.08972073677956031,\n",
       " 0.6213991769547325,\n",
       " 0.9443377456787)"
      ]
     },
     "execution_count": 30,
     "metadata": {},
     "output_type": "execute_result"
    }
   ],
   "source": [
    "%%time\n",
    "rf_nest = RandomForestClassifier(n_estimators=200, random_state=0, oob_score=True, n_jobs=-1)\n",
    "rf_nest.fit(x_train, y_train)\n",
    "preds_nest = rf_nest.predict(x_val)\n",
    "\n",
    "accuracy_score(preds_nest, y_val), f1_score(preds_nest, y_val), precision_score(preds_nest, y_val), recall_score(preds_nest, y_val), rfc.oob_score_"
   ]
  },
  {
   "cell_type": "markdown",
   "metadata": {},
   "source": [
    "#### 3.3 min_samples_leaf"
   ]
  },
  {
   "cell_type": "code",
   "execution_count": 31,
   "metadata": {},
   "outputs": [
    {
     "name": "stdout",
     "output_type": "stream",
     "text": [
      "Wall time: 7.14 s\n"
     ]
    },
    {
     "data": {
      "text/plain": [
       "(0.9438330170777989,\n",
       " 0.12941176470588234,\n",
       " 0.0718954248366013,\n",
       " 0.6470588235294118,\n",
       " 0.9443377456787)"
      ]
     },
     "execution_count": 31,
     "metadata": {},
     "output_type": "execute_result"
    }
   ],
   "source": [
    "%%time\n",
    "rf_msl = RandomForestClassifier(n_estimators=200, min_samples_leaf=3, random_state=0, oob_score=True, n_jobs=-1)\n",
    "rf_msl.fit(x_train, y_train)\n",
    "preds_msl = rf_msl.predict(x_val)\n",
    "\n",
    "accuracy_score(preds_msl, y_val), f1_score(preds_msl, y_val), precision_score(preds_msl, y_val), recall_score(preds_msl, y_val), rfc.oob_score_"
   ]
  },
  {
   "cell_type": "code",
   "execution_count": 32,
   "metadata": {},
   "outputs": [
    {
     "name": "stdout",
     "output_type": "stream",
     "text": [
      "Wall time: 7.01 s\n"
     ]
    },
    {
     "data": {
      "text/plain": [
       "(0.9441090219078834,\n",
       " 0.11860718171926006,\n",
       " 0.0647653000594177,\n",
       " 0.7032258064516129,\n",
       " 0.9443377456787)"
      ]
     },
     "execution_count": 32,
     "metadata": {},
     "output_type": "execute_result"
    }
   ],
   "source": [
    "%%time\n",
    "rf_msl = RandomForestClassifier(n_estimators=200, min_samples_leaf=5, random_state=0, oob_score=True, n_jobs=-1)\n",
    "rf_msl.fit(x_train, y_train)\n",
    "preds_msl = rf_msl.predict(x_val)\n",
    "\n",
    "accuracy_score(preds_msl, y_val), f1_score(preds_msl, y_val), precision_score(preds_msl, y_val), recall_score(preds_msl, y_val), rfc.oob_score_"
   ]
  },
  {
   "cell_type": "code",
   "execution_count": 33,
   "metadata": {},
   "outputs": [
    {
     "name": "stdout",
     "output_type": "stream",
     "text": [
      "Wall time: 8.54 s\n"
     ]
    },
    {
     "data": {
      "text/plain": [
       "(0.9455925478695877,\n",
       " 0.2962962962962963,\n",
       " 0.19726678550207963,\n",
       " 0.5949820788530465,\n",
       " 0.9443377456787)"
      ]
     },
     "execution_count": 33,
     "metadata": {},
     "output_type": "execute_result"
    }
   ],
   "source": [
    "%%time\n",
    "rf_msl = RandomForestClassifier(n_estimators=100, min_samples_leaf=3, random_state=0, oob_score=True, max_features=0.9, n_jobs=-1)\n",
    "rf_msl.fit(x_train, y_train)\n",
    "preds_msl = rf_msl.predict(x_val)\n",
    "\n",
    "accuracy_score(preds_msl, y_val), f1_score(preds_msl, y_val), precision_score(preds_msl, y_val), recall_score(preds_msl, y_val), rfc.oob_score_"
   ]
  },
  {
   "cell_type": "markdown",
   "metadata": {},
   "source": [
    "#### 3.4 max_features"
   ]
  },
  {
   "cell_type": "code",
   "execution_count": 34,
   "metadata": {},
   "outputs": [
    {
     "name": "stdout",
     "output_type": "stream",
     "text": [
      "Wall time: 18.1 s\n"
     ]
    },
    {
     "data": {
      "text/plain": [
       "(0.9461790581335173,\n",
       " 0.3109540636042403,\n",
       " 0.20915032679738563,\n",
       " 0.6058519793459552,\n",
       " 0.9443377456787)"
      ]
     },
     "execution_count": 34,
     "metadata": {},
     "output_type": "execute_result"
    }
   ],
   "source": [
    "%%time\n",
    "rf_mf = RandomForestClassifier(n_estimators=200, random_state=0, max_features=0.9, oob_score=True, n_jobs=-1)\n",
    "rf_mf.fit(x_train, y_train)\n",
    "preds_mf = rf_mf.predict(x_val)\n",
    "\n",
    "accuracy_score(preds_mf, y_val), f1_score(preds_mf, y_val), precision_score(preds_mf, y_val), recall_score(preds_mf, y_val), rfc.oob_score_"
   ]
  },
  {
   "cell_type": "code",
   "execution_count": 35,
   "metadata": {},
   "outputs": [
    {
     "name": "stdout",
     "output_type": "stream",
     "text": [
      "Wall time: 1min 57s\n"
     ]
    },
    {
     "data": {
      "text/plain": [
       "(0.9459030533034328,\n",
       " 0.29874776386404295,\n",
       " 0.1984551396316102,\n",
       " 0.6039783001808319,\n",
       " 0.9443377456787)"
      ]
     },
     "execution_count": 35,
     "metadata": {},
     "output_type": "execute_result"
    }
   ],
   "source": [
    "%%time\n",
    "rf_mf = RandomForestClassifier(n_estimators=200, random_state=0, max_features=0.8, oob_score=True, n_jobs=-1)\n",
    "rf_mf.fit(x_train, y_train)\n",
    "preds_mf = rf_mf.predict(x_val)\n",
    "\n",
    "accuracy_score(preds_mf, y_val), f1_score(preds_mf, y_val), precision_score(preds_mf, y_val), recall_score(preds_mf, y_val), rfc.oob_score_"
   ]
  },
  {
   "cell_type": "code",
   "execution_count": 36,
   "metadata": {},
   "outputs": [
    {
     "name": "stdout",
     "output_type": "stream",
     "text": [
      "Wall time: 12.6 s\n"
     ]
    },
    {
     "data": {
      "text/plain": [
       "(0.9455925478695877,\n",
       " 0.27892089620484684,\n",
       " 0.18122400475341652,\n",
       " 0.6051587301587301,\n",
       " 0.9443377456787)"
      ]
     },
     "execution_count": 36,
     "metadata": {},
     "output_type": "execute_result"
    }
   ],
   "source": [
    "%%time\n",
    "rf_mf = RandomForestClassifier(n_estimators=200, random_state=0, max_features=0.5, oob_score=True, n_jobs=-1)\n",
    "rf_mf.fit(x_train, y_train)\n",
    "preds_mf = rf_mf.predict(x_val)\n",
    "\n",
    "accuracy_score(preds_mf, y_val), f1_score(preds_mf, y_val), precision_score(preds_mf, y_val), recall_score(preds_mf, y_val), rfc.oob_score_"
   ]
  },
  {
   "cell_type": "code",
   "execution_count": 37,
   "metadata": {},
   "outputs": [
    {
     "name": "stdout",
     "output_type": "stream",
     "text": [
      "Wall time: 7.46 s\n"
     ]
    },
    {
     "data": {
      "text/plain": [
       "(0.9439710194928411,\n",
       " 0.1568016614745587,\n",
       " 0.08972073677956031,\n",
       " 0.6213991769547325,\n",
       " 0.9443377456787)"
      ]
     },
     "execution_count": 37,
     "metadata": {},
     "output_type": "execute_result"
    }
   ],
   "source": [
    "%%time\n",
    "rf_mf = RandomForestClassifier(n_estimators=200, random_state=0, max_features='sqrt', oob_score=True, n_jobs=-1)\n",
    "rf_mf.fit(x_train, y_train)\n",
    "preds_mf = rf_mf.predict(x_val)\n",
    "\n",
    "accuracy_score(preds_mf, y_val), f1_score(preds_mf, y_val), precision_score(preds_mf, y_val), recall_score(preds_mf, y_val), rfc.oob_score_"
   ]
  },
  {
   "cell_type": "code",
   "execution_count": 38,
   "metadata": {},
   "outputs": [
    {
     "name": "stdout",
     "output_type": "stream",
     "text": [
      "Wall time: 6.79 s\n"
     ]
    },
    {
     "data": {
      "text/plain": [
       "(0.9433155080213904,\n",
       " 0.07644744238336144,\n",
       " 0.04040404040404041,\n",
       " 0.7083333333333334,\n",
       " 0.9443377456787)"
      ]
     },
     "execution_count": 38,
     "metadata": {},
     "output_type": "execute_result"
    }
   ],
   "source": [
    "%%time\n",
    "rf_mf = RandomForestClassifier(n_estimators=200, random_state=0, max_features='log2', oob_score=True, n_jobs=-1)\n",
    "rf_mf.fit(x_train, y_train)\n",
    "preds_mf = rf_mf.predict(x_val)\n",
    "\n",
    "accuracy_score(preds_mf, y_val), f1_score(preds_mf, y_val), precision_score(preds_mf, y_val), recall_score(preds_mf, y_val), rfc.oob_score_"
   ]
  },
  {
   "cell_type": "markdown",
   "metadata": {},
   "source": [
    "#### 4.0 Testing Time"
   ]
  },
  {
   "cell_type": "code",
   "execution_count": 39,
   "metadata": {},
   "outputs": [
    {
     "name": "stdout",
     "output_type": "stream",
     "text": [
      "Wall time: 18.7 s\n"
     ]
    },
    {
     "data": {
      "text/plain": [
       "(0.9464895635673625,\n",
       " 0.30229419703103916,\n",
       " 0.20204449789536982,\n",
       " 0.6,\n",
       " 0.9443377456787)"
      ]
     },
     "execution_count": 39,
     "metadata": {},
     "output_type": "execute_result"
    }
   ],
   "source": [
    "%%time\n",
    "rf_mf = RandomForestClassifier(n_estimators=200, random_state=0, max_features=0.9, oob_score=True, n_jobs=-1)\n",
    "rf_mf.fit(x_train, y_train)\n",
    "preds_mf = rf_mf.predict(x_test)\n",
    "\n",
    "accuracy_score(preds_mf, y_test), f1_score(preds_mf, y_test), precision_score(preds_mf, y_test), recall_score(preds_mf, y_test), rfc.oob_score_"
   ]
  },
  {
   "cell_type": "code",
   "execution_count": 40,
   "metadata": {},
   "outputs": [
    {
     "name": "stdout",
     "output_type": "stream",
     "text": [
      "Wall time: 16.4 s\n"
     ]
    },
    {
     "data": {
      "text/plain": [
       "(0.9462135587372779,\n",
       " 0.287151348879744,\n",
       " 0.1888153938665063,\n",
       " 0.5992366412213741,\n",
       " 0.9443377456787)"
      ]
     },
     "execution_count": 40,
     "metadata": {},
     "output_type": "execute_result"
    }
   ],
   "source": [
    "%%time\n",
    "rf_mf = RandomForestClassifier(n_estimators=200, random_state=0, max_features=0.9, oob_score=True, n_jobs=-1, min_samples_leaf=3)\n",
    "rf_mf.fit(x_train, y_train)\n",
    "preds_mf = rf_mf.predict(x_test)\n",
    "\n",
    "accuracy_score(preds_mf, y_test), f1_score(preds_mf, y_test), precision_score(preds_mf, y_test), recall_score(preds_mf, y_test), rfc.oob_score_"
   ]
  },
  {
   "cell_type": "code",
   "execution_count": 41,
   "metadata": {},
   "outputs": [
    {
     "name": "stdout",
     "output_type": "stream",
     "text": [
      "Wall time: 14.8 s\n"
     ]
    },
    {
     "data": {
      "text/plain": [
       "(0.9302742797998965,\n",
       " 0.5102980373152411,\n",
       " 0.6331930246542393,\n",
       " 0.4273538961038961,\n",
       " 0.9443377456787)"
      ]
     },
     "execution_count": 41,
     "metadata": {},
     "output_type": "execute_result"
    }
   ],
   "source": [
    "%%time\n",
    "rf_mf = RandomForestRegressor(n_estimators=200, random_state=0, max_features=0.9, oob_score=True, n_jobs=-1, min_samples_leaf=3)\n",
    "rf_mf.fit(x_train, y_train)\n",
    "preds_mf = rf_mf.predict(x_test)\n",
    "\n",
    "accuracy_score((preds_mf>0.3), y_test), f1_score((preds_mf>0.3), y_test), precision_score((preds_mf>0.3), y_test), recall_score((preds_mf>0.3), y_test), rfc.oob_score_"
   ]
  }
 ],
 "metadata": {
  "kernelspec": {
   "display_name": "venv",
   "language": "python",
   "name": "venv"
  },
  "language_info": {
   "codemirror_mode": {
    "name": "ipython",
    "version": 3
   },
   "file_extension": ".py",
   "mimetype": "text/x-python",
   "name": "python",
   "nbconvert_exporter": "python",
   "pygments_lexer": "ipython3",
   "version": "3.8.4"
  }
 },
 "nbformat": 4,
 "nbformat_minor": 4
}
