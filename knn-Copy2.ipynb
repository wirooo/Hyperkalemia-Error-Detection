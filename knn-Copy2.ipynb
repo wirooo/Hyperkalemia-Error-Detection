{
 "cells": [
  {
   "cell_type": "markdown",
   "metadata": {},
   "source": []
  },
  {
   "cell_type": "code",
   "execution_count": 1,
   "metadata": {},
   "outputs": [],
   "source": [
    "import pandas as pd"
   ]
  },
  {
   "cell_type": "code",
   "execution_count": 2,
   "metadata": {
    "scrolled": true
   },
   "outputs": [
    {
     "data": {
      "text/html": [
       "<div>\n",
       "<style scoped>\n",
       "    .dataframe tbody tr th:only-of-type {\n",
       "        vertical-align: middle;\n",
       "    }\n",
       "\n",
       "    .dataframe tbody tr th {\n",
       "        vertical-align: top;\n",
       "    }\n",
       "\n",
       "    .dataframe thead th {\n",
       "        text-align: right;\n",
       "    }\n",
       "</style>\n",
       "<table border=\"1\" class=\"dataframe\">\n",
       "  <thead>\n",
       "    <tr style=\"text-align: right;\">\n",
       "      <th></th>\n",
       "      <th>patientunitstayid</th>\n",
       "      <th>hyperkalemic</th>\n",
       "      <th>-basos</th>\n",
       "      <th>-eos</th>\n",
       "      <th>-lymphs</th>\n",
       "      <th>-monos</th>\n",
       "      <th>-polys</th>\n",
       "      <th>ALT (SGPT)</th>\n",
       "      <th>AST (SGOT)</th>\n",
       "      <th>BUN</th>\n",
       "      <th>...</th>\n",
       "      <th>phosphate</th>\n",
       "      <th>platelets x 1000</th>\n",
       "      <th>potassium</th>\n",
       "      <th>sodium</th>\n",
       "      <th>total bilirubin</th>\n",
       "      <th>total protein</th>\n",
       "      <th>triglycerides</th>\n",
       "      <th>troponin - I</th>\n",
       "      <th>urinary specific gravity</th>\n",
       "      <th>falsepositive</th>\n",
       "    </tr>\n",
       "  </thead>\n",
       "  <tbody>\n",
       "    <tr>\n",
       "      <th>0</th>\n",
       "      <td>141266</td>\n",
       "      <td>True</td>\n",
       "      <td>0.0</td>\n",
       "      <td>3.0</td>\n",
       "      <td>16.0</td>\n",
       "      <td>13.0</td>\n",
       "      <td>82.0</td>\n",
       "      <td>38.0</td>\n",
       "      <td>76.0</td>\n",
       "      <td>31.0</td>\n",
       "      <td>...</td>\n",
       "      <td>2.5</td>\n",
       "      <td>283.0</td>\n",
       "      <td>5.2</td>\n",
       "      <td>142.0</td>\n",
       "      <td>1.0</td>\n",
       "      <td>8.1</td>\n",
       "      <td>108.0</td>\n",
       "      <td>15.44</td>\n",
       "      <td>1.020</td>\n",
       "      <td>False</td>\n",
       "    </tr>\n",
       "    <tr>\n",
       "      <th>1</th>\n",
       "      <td>141296</td>\n",
       "      <td>False</td>\n",
       "      <td>NaN</td>\n",
       "      <td>NaN</td>\n",
       "      <td>1.0</td>\n",
       "      <td>7.0</td>\n",
       "      <td>91.0</td>\n",
       "      <td>61.0</td>\n",
       "      <td>199.0</td>\n",
       "      <td>76.0</td>\n",
       "      <td>...</td>\n",
       "      <td>NaN</td>\n",
       "      <td>486.0</td>\n",
       "      <td>5.6</td>\n",
       "      <td>140.0</td>\n",
       "      <td>0.6</td>\n",
       "      <td>7.0</td>\n",
       "      <td>NaN</td>\n",
       "      <td>NaN</td>\n",
       "      <td>NaN</td>\n",
       "      <td>True</td>\n",
       "    </tr>\n",
       "    <tr>\n",
       "      <th>2</th>\n",
       "      <td>141297</td>\n",
       "      <td>True</td>\n",
       "      <td>NaN</td>\n",
       "      <td>NaN</td>\n",
       "      <td>7.0</td>\n",
       "      <td>8.0</td>\n",
       "      <td>89.0</td>\n",
       "      <td>111.0</td>\n",
       "      <td>325.0</td>\n",
       "      <td>70.0</td>\n",
       "      <td>...</td>\n",
       "      <td>16.8</td>\n",
       "      <td>477.0</td>\n",
       "      <td>10.3</td>\n",
       "      <td>139.0</td>\n",
       "      <td>0.9</td>\n",
       "      <td>7.0</td>\n",
       "      <td>203.0</td>\n",
       "      <td>0.72</td>\n",
       "      <td>NaN</td>\n",
       "      <td>False</td>\n",
       "    </tr>\n",
       "    <tr>\n",
       "      <th>3</th>\n",
       "      <td>141304</td>\n",
       "      <td>True</td>\n",
       "      <td>0.0</td>\n",
       "      <td>2.0</td>\n",
       "      <td>6.0</td>\n",
       "      <td>6.0</td>\n",
       "      <td>91.0</td>\n",
       "      <td>43.0</td>\n",
       "      <td>31.0</td>\n",
       "      <td>48.0</td>\n",
       "      <td>...</td>\n",
       "      <td>4.1</td>\n",
       "      <td>286.0</td>\n",
       "      <td>5.8</td>\n",
       "      <td>146.0</td>\n",
       "      <td>0.3</td>\n",
       "      <td>6.8</td>\n",
       "      <td>NaN</td>\n",
       "      <td>NaN</td>\n",
       "      <td>1.015</td>\n",
       "      <td>False</td>\n",
       "    </tr>\n",
       "    <tr>\n",
       "      <th>4</th>\n",
       "      <td>141313</td>\n",
       "      <td>False</td>\n",
       "      <td>0.0</td>\n",
       "      <td>1.0</td>\n",
       "      <td>16.0</td>\n",
       "      <td>8.0</td>\n",
       "      <td>75.0</td>\n",
       "      <td>57.0</td>\n",
       "      <td>26.0</td>\n",
       "      <td>15.0</td>\n",
       "      <td>...</td>\n",
       "      <td>NaN</td>\n",
       "      <td>226.0</td>\n",
       "      <td>5.2</td>\n",
       "      <td>142.0</td>\n",
       "      <td>0.2</td>\n",
       "      <td>4.9</td>\n",
       "      <td>NaN</td>\n",
       "      <td>NaN</td>\n",
       "      <td>NaN</td>\n",
       "      <td>True</td>\n",
       "    </tr>\n",
       "  </tbody>\n",
       "</table>\n",
       "<p>5 rows × 53 columns</p>\n",
       "</div>"
      ],
      "text/plain": [
       "   patientunitstayid  hyperkalemic  -basos  -eos  -lymphs  -monos  -polys  \\\n",
       "0             141266          True     0.0   3.0     16.0    13.0    82.0   \n",
       "1             141296         False     NaN   NaN      1.0     7.0    91.0   \n",
       "2             141297          True     NaN   NaN      7.0     8.0    89.0   \n",
       "3             141304          True     0.0   2.0      6.0     6.0    91.0   \n",
       "4             141313         False     0.0   1.0     16.0     8.0    75.0   \n",
       "\n",
       "   ALT (SGPT)  AST (SGOT)   BUN  ...  phosphate  platelets x 1000  potassium  \\\n",
       "0        38.0        76.0  31.0  ...        2.5             283.0        5.2   \n",
       "1        61.0       199.0  76.0  ...        NaN             486.0        5.6   \n",
       "2       111.0       325.0  70.0  ...       16.8             477.0       10.3   \n",
       "3        43.0        31.0  48.0  ...        4.1             286.0        5.8   \n",
       "4        57.0        26.0  15.0  ...        NaN             226.0        5.2   \n",
       "\n",
       "   sodium  total bilirubin  total protein  triglycerides  troponin - I  \\\n",
       "0   142.0              1.0            8.1          108.0         15.44   \n",
       "1   140.0              0.6            7.0            NaN           NaN   \n",
       "2   139.0              0.9            7.0          203.0          0.72   \n",
       "3   146.0              0.3            6.8            NaN           NaN   \n",
       "4   142.0              0.2            4.9            NaN           NaN   \n",
       "\n",
       "   urinary specific gravity  falsepositive  \n",
       "0                     1.020          False  \n",
       "1                       NaN           True  \n",
       "2                       NaN          False  \n",
       "3                     1.015          False  \n",
       "4                       NaN           True  \n",
       "\n",
       "[5 rows x 53 columns]"
      ]
     },
     "execution_count": 2,
     "metadata": {},
     "output_type": "execute_result"
    }
   ],
   "source": [
    "df = pd.read_csv('trimmed_data_labelled.csv')\n",
    "df.head()"
   ]
  },
  {
   "cell_type": "code",
   "execution_count": 3,
   "metadata": {},
   "outputs": [],
   "source": [
    "from sklearn.impute import SimpleImputer\n",
    "imputer = SimpleImputer(strategy='median')"
   ]
  },
  {
   "cell_type": "code",
   "execution_count": 4,
   "metadata": {},
   "outputs": [],
   "source": [
    "df_filled = imputer.fit_transform(df)\n",
    "df_filled = pd.DataFrame(data=df_filled, columns=df.columns)"
   ]
  },
  {
   "cell_type": "code",
   "execution_count": 5,
   "metadata": {},
   "outputs": [
    {
     "data": {
      "text/html": [
       "<div>\n",
       "<style scoped>\n",
       "    .dataframe tbody tr th:only-of-type {\n",
       "        vertical-align: middle;\n",
       "    }\n",
       "\n",
       "    .dataframe tbody tr th {\n",
       "        vertical-align: top;\n",
       "    }\n",
       "\n",
       "    .dataframe thead th {\n",
       "        text-align: right;\n",
       "    }\n",
       "</style>\n",
       "<table border=\"1\" class=\"dataframe\">\n",
       "  <thead>\n",
       "    <tr style=\"text-align: right;\">\n",
       "      <th></th>\n",
       "      <th>patientunitstayid</th>\n",
       "      <th>hyperkalemic</th>\n",
       "      <th>-basos</th>\n",
       "      <th>-eos</th>\n",
       "      <th>-lymphs</th>\n",
       "      <th>-monos</th>\n",
       "      <th>-polys</th>\n",
       "      <th>ALT (SGPT)</th>\n",
       "      <th>AST (SGOT)</th>\n",
       "      <th>BUN</th>\n",
       "      <th>...</th>\n",
       "      <th>paO2</th>\n",
       "      <th>phosphate</th>\n",
       "      <th>platelets x 1000</th>\n",
       "      <th>potassium</th>\n",
       "      <th>sodium</th>\n",
       "      <th>total bilirubin</th>\n",
       "      <th>total protein</th>\n",
       "      <th>triglycerides</th>\n",
       "      <th>troponin - I</th>\n",
       "      <th>urinary specific gravity</th>\n",
       "    </tr>\n",
       "  </thead>\n",
       "  <tbody>\n",
       "    <tr>\n",
       "      <th>0</th>\n",
       "      <td>141266.0</td>\n",
       "      <td>1.0</td>\n",
       "      <td>0.0</td>\n",
       "      <td>3.0</td>\n",
       "      <td>16.0</td>\n",
       "      <td>13.0</td>\n",
       "      <td>82.0</td>\n",
       "      <td>38.0</td>\n",
       "      <td>76.0</td>\n",
       "      <td>31.0</td>\n",
       "      <td>...</td>\n",
       "      <td>291.0</td>\n",
       "      <td>2.5</td>\n",
       "      <td>283.0</td>\n",
       "      <td>5.2</td>\n",
       "      <td>142.0</td>\n",
       "      <td>1.0</td>\n",
       "      <td>8.1</td>\n",
       "      <td>108.0</td>\n",
       "      <td>15.44</td>\n",
       "      <td>1.020</td>\n",
       "    </tr>\n",
       "    <tr>\n",
       "      <th>1</th>\n",
       "      <td>141296.0</td>\n",
       "      <td>0.0</td>\n",
       "      <td>0.4</td>\n",
       "      <td>2.0</td>\n",
       "      <td>1.0</td>\n",
       "      <td>7.0</td>\n",
       "      <td>91.0</td>\n",
       "      <td>61.0</td>\n",
       "      <td>199.0</td>\n",
       "      <td>76.0</td>\n",
       "      <td>...</td>\n",
       "      <td>54.0</td>\n",
       "      <td>4.7</td>\n",
       "      <td>486.0</td>\n",
       "      <td>5.6</td>\n",
       "      <td>140.0</td>\n",
       "      <td>0.6</td>\n",
       "      <td>7.0</td>\n",
       "      <td>129.0</td>\n",
       "      <td>0.16</td>\n",
       "      <td>1.017</td>\n",
       "    </tr>\n",
       "    <tr>\n",
       "      <th>2</th>\n",
       "      <td>141297.0</td>\n",
       "      <td>1.0</td>\n",
       "      <td>0.4</td>\n",
       "      <td>2.0</td>\n",
       "      <td>7.0</td>\n",
       "      <td>8.0</td>\n",
       "      <td>89.0</td>\n",
       "      <td>111.0</td>\n",
       "      <td>325.0</td>\n",
       "      <td>70.0</td>\n",
       "      <td>...</td>\n",
       "      <td>434.0</td>\n",
       "      <td>16.8</td>\n",
       "      <td>477.0</td>\n",
       "      <td>10.3</td>\n",
       "      <td>139.0</td>\n",
       "      <td>0.9</td>\n",
       "      <td>7.0</td>\n",
       "      <td>203.0</td>\n",
       "      <td>0.72</td>\n",
       "      <td>1.017</td>\n",
       "    </tr>\n",
       "    <tr>\n",
       "      <th>3</th>\n",
       "      <td>141304.0</td>\n",
       "      <td>1.0</td>\n",
       "      <td>0.0</td>\n",
       "      <td>2.0</td>\n",
       "      <td>6.0</td>\n",
       "      <td>6.0</td>\n",
       "      <td>91.0</td>\n",
       "      <td>43.0</td>\n",
       "      <td>31.0</td>\n",
       "      <td>48.0</td>\n",
       "      <td>...</td>\n",
       "      <td>89.0</td>\n",
       "      <td>4.1</td>\n",
       "      <td>286.0</td>\n",
       "      <td>5.8</td>\n",
       "      <td>146.0</td>\n",
       "      <td>0.3</td>\n",
       "      <td>6.8</td>\n",
       "      <td>129.0</td>\n",
       "      <td>0.16</td>\n",
       "      <td>1.015</td>\n",
       "    </tr>\n",
       "    <tr>\n",
       "      <th>4</th>\n",
       "      <td>141313.0</td>\n",
       "      <td>0.0</td>\n",
       "      <td>0.0</td>\n",
       "      <td>1.0</td>\n",
       "      <td>16.0</td>\n",
       "      <td>8.0</td>\n",
       "      <td>75.0</td>\n",
       "      <td>57.0</td>\n",
       "      <td>26.0</td>\n",
       "      <td>15.0</td>\n",
       "      <td>...</td>\n",
       "      <td>256.0</td>\n",
       "      <td>4.7</td>\n",
       "      <td>226.0</td>\n",
       "      <td>5.2</td>\n",
       "      <td>142.0</td>\n",
       "      <td>0.2</td>\n",
       "      <td>4.9</td>\n",
       "      <td>129.0</td>\n",
       "      <td>0.16</td>\n",
       "      <td>1.017</td>\n",
       "    </tr>\n",
       "  </tbody>\n",
       "</table>\n",
       "<p>5 rows × 52 columns</p>\n",
       "</div>"
      ],
      "text/plain": [
       "   patientunitstayid  hyperkalemic  -basos  -eos  -lymphs  -monos  -polys  \\\n",
       "0           141266.0           1.0     0.0   3.0     16.0    13.0    82.0   \n",
       "1           141296.0           0.0     0.4   2.0      1.0     7.0    91.0   \n",
       "2           141297.0           1.0     0.4   2.0      7.0     8.0    89.0   \n",
       "3           141304.0           1.0     0.0   2.0      6.0     6.0    91.0   \n",
       "4           141313.0           0.0     0.0   1.0     16.0     8.0    75.0   \n",
       "\n",
       "   ALT (SGPT)  AST (SGOT)   BUN  ...   paO2  phosphate  platelets x 1000  \\\n",
       "0        38.0        76.0  31.0  ...  291.0        2.5             283.0   \n",
       "1        61.0       199.0  76.0  ...   54.0        4.7             486.0   \n",
       "2       111.0       325.0  70.0  ...  434.0       16.8             477.0   \n",
       "3        43.0        31.0  48.0  ...   89.0        4.1             286.0   \n",
       "4        57.0        26.0  15.0  ...  256.0        4.7             226.0   \n",
       "\n",
       "   potassium  sodium  total bilirubin  total protein  triglycerides  \\\n",
       "0        5.2   142.0              1.0            8.1          108.0   \n",
       "1        5.6   140.0              0.6            7.0          129.0   \n",
       "2       10.3   139.0              0.9            7.0          203.0   \n",
       "3        5.8   146.0              0.3            6.8          129.0   \n",
       "4        5.2   142.0              0.2            4.9          129.0   \n",
       "\n",
       "   troponin - I  urinary specific gravity  \n",
       "0         15.44                     1.020  \n",
       "1          0.16                     1.017  \n",
       "2          0.72                     1.017  \n",
       "3          0.16                     1.015  \n",
       "4          0.16                     1.017  \n",
       "\n",
       "[5 rows x 52 columns]"
      ]
     },
     "execution_count": 5,
     "metadata": {},
     "output_type": "execute_result"
    }
   ],
   "source": [
    "X = df_filled.drop(columns=['falsepositive'])\n",
    "X.head()"
   ]
  },
  {
   "cell_type": "code",
   "execution_count": 6,
   "metadata": {},
   "outputs": [],
   "source": [
    "from sklearn import preprocessing\n",
    "normalized_X = preprocessing.scale(X)"
   ]
  },
  {
   "cell_type": "code",
   "execution_count": 7,
   "metadata": {},
   "outputs": [
    {
     "data": {
      "text/plain": [
       "array([0., 1., 0., 0., 1.])"
      ]
     },
     "execution_count": 7,
     "metadata": {},
     "output_type": "execute_result"
    }
   ],
   "source": [
    "y = df_filled['falsepositive'].values#view target values\n",
    "y[0:5]"
   ]
  },
  {
   "cell_type": "code",
   "execution_count": 8,
   "metadata": {},
   "outputs": [],
   "source": [
    "from sklearn.model_selection import train_test_split\n",
    "#split dataset into train and test data\n",
    "X_train, X_test, y_train, y_test = train_test_split(normalized_X, y, test_size=0.2, random_state=1)\n",
    "\n",
    "X_train, X_val, y_train, y_val = train_test_split(X_train, y_train, test_size=0.25, random_state=1) # 0.25 x 0.8 = 0.2"
   ]
  },
  {
   "cell_type": "code",
   "execution_count": 9,
   "metadata": {},
   "outputs": [
    {
     "data": {
      "text/plain": [
       "KNeighborsClassifier(n_neighbors=10)"
      ]
     },
     "execution_count": 9,
     "metadata": {},
     "output_type": "execute_result"
    }
   ],
   "source": [
    "from sklearn.neighbors import KNeighborsClassifier# Create KNN classifier\n",
    "knn = KNeighborsClassifier(n_neighbors = 10)# Fit the classifier to the data\n",
    "knn.fit(X_train,y_train)"
   ]
  },
  {
   "cell_type": "code",
   "execution_count": 10,
   "metadata": {},
   "outputs": [
    {
     "data": {
      "text/plain": [
       "array([0., 0., 0., 1., 1.])"
      ]
     },
     "execution_count": 10,
     "metadata": {},
     "output_type": "execute_result"
    }
   ],
   "source": [
    "#show first 5 model predictions on the test data\n",
    "knn.predict(X_test)[0:5]"
   ]
  },
  {
   "cell_type": "code",
   "execution_count": 11,
   "metadata": {},
   "outputs": [
    {
     "data": {
      "text/plain": [
       "0.9742686475723694"
      ]
     },
     "execution_count": 11,
     "metadata": {},
     "output_type": "execute_result"
    }
   ],
   "source": [
    "knn.score(X_test, y_test)"
   ]
  },
  {
   "cell_type": "code",
   "execution_count": 12,
   "metadata": {},
   "outputs": [],
   "source": [
    "preds = knn.predict(X_val)"
   ]
  },
  {
   "cell_type": "code",
   "execution_count": 13,
   "metadata": {},
   "outputs": [],
   "source": [
    "from sklearn.metrics import accuracy_score, f1_score, precision_score, recall_score"
   ]
  },
  {
   "cell_type": "code",
   "execution_count": 14,
   "metadata": {},
   "outputs": [
    {
     "data": {
      "text/plain": [
       "0.9707414215686274"
      ]
     },
     "execution_count": 14,
     "metadata": {},
     "output_type": "execute_result"
    }
   ],
   "source": [
    "accuracy_score(y_val, (preds > 0.5))"
   ]
  },
  {
   "cell_type": "code",
   "execution_count": 15,
   "metadata": {},
   "outputs": [
    {
     "data": {
      "text/plain": [
       "0.9395378284267173"
      ]
     },
     "execution_count": 15,
     "metadata": {},
     "output_type": "execute_result"
    }
   ],
   "source": [
    "f1_score(y_val, (preds > 0.5))"
   ]
  },
  {
   "cell_type": "code",
   "execution_count": 16,
   "metadata": {},
   "outputs": [
    {
     "data": {
      "text/plain": [
       "0.9979825151311366"
      ]
     },
     "execution_count": 16,
     "metadata": {},
     "output_type": "execute_result"
    }
   ],
   "source": [
    "precision_score(y_val, (preds > 0.5))"
   ]
  },
  {
   "cell_type": "code",
   "execution_count": 17,
   "metadata": {},
   "outputs": [
    {
     "data": {
      "text/plain": [
       "0.8875598086124402"
      ]
     },
     "execution_count": 17,
     "metadata": {},
     "output_type": "execute_result"
    }
   ],
   "source": [
    "recall_score(y_val, (preds>0.5))"
   ]
  },
  {
   "cell_type": "code",
   "execution_count": 18,
   "metadata": {},
   "outputs": [],
   "source": [
    "# a = []\n",
    "# b = []\n",
    "\n",
    "# for i in range(1, 100):\n",
    "#     knn = KNeighborsClassifier(n_neighbors = i)# Fit the classifier to the data\n",
    "#     knn.fit(X_train,y_train)\n",
    "#     a.append(i)\n",
    "#     b.append(knn.score(X_test, y_test))\n",
    "    "
   ]
  },
  {
   "cell_type": "code",
   "execution_count": 19,
   "metadata": {},
   "outputs": [],
   "source": [
    "# import seaborn as sns\n",
    "# sns.lineplot(a,b)\n",
    "    "
   ]
  },
  {
   "cell_type": "code",
   "execution_count": null,
   "metadata": {},
   "outputs": [],
   "source": []
  }
 ],
 "metadata": {
  "kernelspec": {
   "display_name": "Python 3.7.4 64-bit",
   "language": "python",
   "name": "python37464bit025ea67025604ecba25069791b4d62b9"
  },
  "language_info": {
   "codemirror_mode": {
    "name": "ipython",
    "version": 3
   },
   "file_extension": ".py",
   "mimetype": "text/x-python",
   "name": "python",
   "nbconvert_exporter": "python",
   "pygments_lexer": "ipython3",
   "version": "3.7.4"
  }
 },
 "nbformat": 4,
 "nbformat_minor": 2
}
